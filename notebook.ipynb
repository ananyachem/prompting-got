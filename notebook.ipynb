{
 "cells": [
  {
   "cell_type": "markdown",
   "id": "d062c0a2",
   "metadata": {},
   "source": [
    "# Question Answering using GPT"
   ]
  },
  {
   "cell_type": "markdown",
   "id": "9f736fb8",
   "metadata": {},
   "source": [
    "## Part 1: Adding a Context and Answers"
   ]
  },
  {
   "cell_type": "code",
   "execution_count": 46,
   "id": "9942e6af",
   "metadata": {},
   "outputs": [
    {
     "name": "stdout",
     "output_type": "stream",
     "text": [
      "Answer: A planetary coordinate system (also referred to as planetographic, planetodetic, or planetocentric) is a generalization of the geographic, geodetic, and the geocentric coordinate systems for planets other than Earth.\n",
      "Start Char: 0\n",
      "\n",
      "Answer: planetographic, planetodetic, or planetocentric\n",
      "Start Char: 51\n",
      "\n",
      "Answer: selenographic coordinates\n",
      "Start Char: 305\n",
      "\n",
      "Answer: Merton E. Davies of the Rand Corporation\n",
      "Start Char: 443\n",
      "\n",
      "Answer: A planetary datum is a generalization of geodetic datums for other planetary bodies, such as the Mars datum; it requires the specification of physical reference points or surfaces with fixed coordinates, such as a specific crater for the reference meridian or the best-fitting equigeopotential as zero-level surface.\n",
      "Start Char: 594\n",
      "\n"
     ]
    }
   ],
   "source": [
    "def find_start_char(context, answer_text):\n",
    "    \n",
    "    # Find the start character index of the answer_text in the context.\n",
    "    # Returns -1 if the answer_text is not found.\n",
    "    \n",
    "    return context.find(answer_text)\n",
    "\n",
    "context = (\n",
    "    \"A planetary coordinate system (also referred to as planetographic, planetodetic, \"\n",
    "    \"or planetocentric) is a generalization of the geographic, geodetic, and the \"\n",
    "    \"geocentric coordinate systems for planets other than Earth. Similar coordinate systems \"\n",
    "    \"are defined for other solid celestial bodies, such as in the selenographic coordinates \"\n",
    "    \"for the Moon. The coordinate systems for almost all of the solid bodies in the Solar \"\n",
    "    \"System were established by Merton E. Davies of the Rand Corporation, including Mercury, \"\n",
    "    \"Venus, Mars, the four Galilean moons of Jupiter, and Triton, the largest moon of Neptune. \"\n",
    "    \"A planetary datum is a generalization of geodetic datums for other planetary bodies, such \"\n",
    "    \"as the Mars datum; it requires the specification of physical reference points or surfaces \"\n",
    "    \"with fixed coordinates, such as a specific crater for the reference meridian or the best-\"\n",
    "    \"fitting equigeopotential as zero-level surface.\"\n",
    ")\n",
    "\n",
    "answers = [\n",
    "    \"A planetary coordinate system (also referred to as planetographic, planetodetic, or planetocentric) is a generalization of the geographic, geodetic, and the geocentric coordinate systems for planets other than Earth.\",\n",
    "    \"planetographic, planetodetic, or planetocentric\",\n",
    "    \"selenographic coordinates\",\n",
    "    \"Merton E. Davies of the Rand Corporation\",\n",
    "    \"A planetary datum is a generalization of geodetic datums for other planetary bodies, such as the Mars datum; it requires the specification of physical reference points or surfaces with fixed coordinates, such as a specific crater for the reference meridian or the best-fitting equigeopotential as zero-level surface.\"\n",
    "]\n",
    "\n",
    "for answer in answers:\n",
    "    start_char = find_start_char(context, answer)\n",
    "    if start_char == -1:\n",
    "        print(f\"Answer not found in context: {answer}\")\n",
    "    else:\n",
    "        print(f\"Answer: {answer}\\nStart Char: {start_char}\\n\")\n"
   ]
  },
  {
   "cell_type": "code",
   "execution_count": 47,
   "id": "0644c27f",
   "metadata": {},
   "outputs": [],
   "source": [
    "import json\n",
    "\n",
    "data = {\n",
    "    \"context\": \"A planetary coordinate system (also referred to as planetographic, planetodetic, or planetocentric) is a generalization of the geographic, geodetic, and the geocentric coordinate systems for planets other than Earth. Similar coordinate systems are defined for other solid celestial bodies, such as in the selenographic coordinates for the Moon. The coordinate systems for almost all of the solid bodies in the Solar System were established by Merton E. Davies of the Rand Corporation, including Mercury, Venus, Mars, the four Galilean moons of Jupiter, and Triton, the largest moon of Neptune. A planetary datum is a generalization of geodetic datums for other planetary bodies, such as the Mars datum; it requires the specification of physical reference points or surfaces with fixed coordinates, such as a specific crater for the reference meridian or the best-fitting equigeopotential as zero-level surface.\",\n",
    "    \"qas\": [\n",
    "\n",
    "        # Answerable questions\n",
    "        {\n",
    "            \"question\": \"What is a planetary coordinate system?\",\n",
    "            \"answers\": [{\"text\": \"A planetary coordinate system (also referred to as planetographic, planetodetic, or planetocentric) is a generalization of the geographic, geodetic, and the geocentric coordinate systems for planets other than Earth.\", \"start_char\": 0}],\n",
    "            \"is_impossible\": False\n",
    "        },\n",
    "        {\n",
    "            \"question\": \"What are other names for a planetary coordinate system?\",\n",
    "            \"answers\": [{\"text\": \"Planetographic, planetodetic, or planetocentric\", \"start_char\": 51}],\n",
    "            \"is_impossible\": False\n",
    "        },\n",
    "        {\n",
    "            \"question\": \"What is a coordinate system for the Moon called?\",\n",
    "            \"answers\": [{\"text\": \"Selenographic coordinates\", \"start_char\": 305}],\n",
    "            \"is_impossible\": False\n",
    "        },\n",
    "        {\n",
    "            \"question\": \"Who established the coordinate systems for almost all of the solid bodies in the Solar System?\",\n",
    "            \"answers\": [{\"text\": \"Merton E. Davies of the Rand Corporation\", \"start_char\": 443}],\n",
    "            \"is_impossible\": False\n",
    "        },\n",
    "        {\n",
    "            \"question\": \"What is a planetary datum?\",\n",
    "            \"answers\": [{\"text\": \"A planetary datum is a generalization of geodetic datums for other planetary bodies, such as the Mars datum; it requires the specification of physical reference points or surfaces with fixed coordinates, such as a specific crater for the reference meridian or the best-fitting equigeopotential as zero-level surface.\", \"start_char\": 594}],\n",
    "            \"is_impossible\": False\n",
    "        },\n",
    "\n",
    "        # Unanswerable questions\n",
    "        {\n",
    "            \"question\": \"What is a celestial body?\",\n",
    "            \"answers\": [],\n",
    "            \"is_impossible\": True\n",
    "        },\n",
    "        {\n",
    "            \"question\": \"Where was Merton E. Davies born?\",\n",
    "            \"answers\": [],\n",
    "            \"is_impossible\": True\n",
    "        },\n",
    "        {\n",
    "            \"question\": \"What is the coordinate system for Saturn called?\",\n",
    "            \"answers\": [],\n",
    "            \"is_impossible\": True\n",
    "        },\n",
    "        {\n",
    "            \"question\": \"What is the largest moon of Jupiter?\",\n",
    "            \"answers\": [],\n",
    "            \"is_impossible\": True\n",
    "        },\n",
    "        {\n",
    "            \"question\": \"How many moons does Neptune have?\",\n",
    "            \"answers\": [],\n",
    "            \"is_impossible\": True\n",
    "        }\n",
    "    ]\n",
    "}\n",
    "\n",
    "with open('squad_questions.json', 'w') as f:\n",
    "    json.dump(data, f, indent=4)"
   ]
  },
  {
   "cell_type": "markdown",
   "id": "42b5e47d",
   "metadata": {},
   "source": [
    "## Part 2: Prompt GPT to Answer Questions"
   ]
  },
  {
   "cell_type": "code",
   "execution_count": 3,
   "id": "954df991",
   "metadata": {},
   "outputs": [
    {
     "data": {
      "text/plain": [
       "True"
      ]
     },
     "execution_count": 3,
     "metadata": {},
     "output_type": "execute_result"
    }
   ],
   "source": [
    "# Loading the Secret API key\n",
    "from dotenv import load_dotenv\n",
    "\n",
    "load_dotenv()"
   ]
  },
  {
   "cell_type": "code",
   "execution_count": 4,
   "id": "66a33d2e",
   "metadata": {},
   "outputs": [],
   "source": [
    "responses = []"
   ]
  },
  {
   "cell_type": "code",
   "execution_count": 42,
   "id": "675d2661",
   "metadata": {},
   "outputs": [],
   "source": [
    "import openai\n",
    "\n",
    "with open(\"squad_questions.json\") as f:\n",
    "    squad_data = json.load(f)\n",
    "\n",
    "responses = []\n",
    "for q in squad_data[\"qas\"]:\n",
    "    prompt = f\"\"\"\n",
    "    Context: {squad_data['context']}\n",
    "\n",
    "    Question: {q['question']}\n",
    "\n",
    "    Please provide the exact answer using **only** the sentences from the provided context. \n",
    "    If the answer is just a phrase in the context, provide just that phrase. \n",
    "    Answer exactly what is asked for.\n",
    "    Don't include any exta information outside the context.\n",
    "    **If the answer is not present in the context, respond with \"No Answer\".**\n",
    "    \n",
    "    \"\"\"\n",
    "\n",
    "    response = openai.ChatCompletion.create(\n",
    "        model=\"gpt-4o-mini\", \n",
    "        messages=[\n",
    "            {\"role\": \"system\", \"content\": \"You are a helpful assistant.\"},\n",
    "            {\"role\": \"user\", \"content\": prompt}\n",
    "        ],\n",
    "        max_tokens=100,\n",
    "    )\n",
    "    \n",
    "    responses.append({\n",
    "        \"question\": q[\"question\"],\n",
    "        \"answer\": response[\"choices\"][0][\"message\"][\"content\"].strip()\n",
    "    })\n",
    "\n",
    "with open(\"responses.json\", \"w\") as f:\n",
    "    json.dump(responses, f, indent=4)"
   ]
  },
  {
   "cell_type": "markdown",
   "id": "12a5d633",
   "metadata": {},
   "source": [
    "## Part 3: Exact Match (EM) and F1-Score Evaluation of Responses"
   ]
  },
  {
   "cell_type": "code",
   "execution_count": 48,
   "id": "8c5d42fa",
   "metadata": {},
   "outputs": [],
   "source": [
    "with open(\"squad_questions.json\") as f:\n",
    "    squad_data = json.load(f)\n",
    "\n",
    "ground_truth = []\n",
    "\n",
    "for q in squad_data[\"qas\"]:\n",
    "    if q.get(\"answers\"):\n",
    "        correct_answer = q[\"answers\"][0].get(\"text\", \"\")\n",
    "    else:\n",
    "        correct_answer = \"No Answer\"  \n",
    "\n",
    "    ground_truth.append({\n",
    "        \"question\": q[\"question\"],\n",
    "        \"answer\": correct_answer\n",
    "    })\n",
    "\n",
    "with open(\"ground_truth.json\", \"w\") as f:\n",
    "    json.dump(ground_truth, f, indent=4)"
   ]
  },
  {
   "cell_type": "code",
   "execution_count": 49,
   "id": "8877f100",
   "metadata": {},
   "outputs": [
    {
     "name": "stdout",
     "output_type": "stream",
     "text": [
      "Exact Match Score: 1.0000\n",
      "Precision: 1.0000\n",
      "Recall: 1.0000\n",
      "F1 Score: 1.0000\n"
     ]
    }
   ],
   "source": [
    "import string\n",
    "from sklearn.metrics import precision_score, recall_score, f1_score\n",
    "\n",
    "# Removing casing and punctuation from the answers\n",
    "def clean_answer(answer):\n",
    "    return answer.translate(str.maketrans(\"\", \"\", string.punctuation)).strip().lower()\n",
    "\n",
    "with open(\"responses.json\") as f:\n",
    "    predicted_responses = json.load(f)\n",
    "\n",
    "with open(\"ground_truth.json\") as f:\n",
    "    ground_truth = json.load(f)\n",
    "\n",
    "exact_matches = 0\n",
    "predictions = []\n",
    "true_labels = []\n",
    "\n",
    "non_matching_answers = []\n",
    "\n",
    "for predicted, true in zip(predicted_responses, ground_truth):\n",
    "    predicted_answer = clean_answer(predicted[\"answer\"])  \n",
    "    true_answer = clean_answer(true[\"answer\"])  \n",
    "\n",
    "    if predicted_answer == true_answer:\n",
    "        exact_matches += 1\n",
    "    else:\n",
    "        non_matching_answers.append({\n",
    "            \"question\": predicted[\"question\"],\n",
    "            \"predicted_answer\": predicted_answer,\n",
    "            \"true_answer\": true_answer\n",
    "        })\n",
    "\n",
    "    predictions.append(predicted_answer)\n",
    "    true_labels.append(true_answer)\n",
    "\n",
    "exact_match_score = exact_matches / len(predicted_responses)\n",
    "\n",
    "precision = precision_score(true_labels, predictions, average='weighted', zero_division=0)\n",
    "recall = recall_score(true_labels, predictions, average='weighted', zero_division=0)\n",
    "f1 = f1_score(true_labels, predictions, average='weighted', zero_division=0)\n",
    "\n",
    "print(f\"Exact Match Score: {exact_match_score:.4f}\")\n",
    "print(f\"Precision: {precision:.4f}\")\n",
    "print(f\"Recall: {recall:.4f}\")\n",
    "print(f\"F1 Score: {f1:.4f}\")"
   ]
  },
  {
   "cell_type": "code",
   "execution_count": 50,
   "id": "38b2e3ca",
   "metadata": {},
   "outputs": [
    {
     "name": "stdout",
     "output_type": "stream",
     "text": [
      "\n",
      "Non-Matching Answers:\n"
     ]
    }
   ],
   "source": [
    "print(\"\\nNon-Matching Answers:\")\n",
    "for item in non_matching_answers:\n",
    "    print(f\"Question: {item['question']}\")\n",
    "    print(f\"Predicted Answer: {item['predicted_answer']}\")\n",
    "    print(f\"True Answer: {item['true_answer']}\")\n",
    "    print(\"-\" * 50)"
   ]
  },
  {
   "cell_type": "code",
   "execution_count": 56,
   "id": "c16ec361",
   "metadata": {},
   "outputs": [
    {
     "name": "stdout",
     "output_type": "stream",
     "text": [
      "BLEU score: 98.3213\n"
     ]
    }
   ],
   "source": [
    "import sacrebleu\n",
    "import re\n",
    "\n",
    "with open(\"responses.json\") as f:\n",
    "    predicted_responses = json.load(f)\n",
    "\n",
    "with open(\"ground_truth.json\") as f:\n",
    "    ground_truth = json.load(f)\n",
    "\n",
    "# Using regular expression to tokenize the sentences, since there was an issue with NLTK\n",
    "def simple_tokenize(text):\n",
    "    return re.findall(r'\\b\\w+\\b', text)\n",
    "\n",
    "tokenized_ground_truth = [simple_tokenize(true[\"answer\"]) for true in ground_truth]\n",
    "tokenized_predictions = [simple_tokenize(predicted[\"answer\"]) for predicted in predicted_responses]\n",
    "\n",
    "references = [\" \".join(true) for true in tokenized_ground_truth]\n",
    "hypotheses = [\" \".join(predicted) for predicted in tokenized_predictions]\n",
    "\n",
    "bleu_score = sacrebleu.corpus_bleu(hypotheses, [references])\n",
    "\n",
    "print(f\"BLEU score: {bleu_score.score:.4f}\")"
   ]
  },
  {
   "cell_type": "code",
   "execution_count": 54,
   "id": "97327b60",
   "metadata": {},
   "outputs": [
    {
     "data": {
      "text/plain": [
       "[['A',\n",
       "  'planetary',\n",
       "  'coordinate',\n",
       "  'system',\n",
       "  'also',\n",
       "  'referred',\n",
       "  'to',\n",
       "  'as',\n",
       "  'planetographic',\n",
       "  'planetodetic',\n",
       "  'or',\n",
       "  'planetocentric',\n",
       "  'is',\n",
       "  'a',\n",
       "  'generalization',\n",
       "  'of',\n",
       "  'the',\n",
       "  'geographic',\n",
       "  'geodetic',\n",
       "  'and',\n",
       "  'the',\n",
       "  'geocentric',\n",
       "  'coordinate',\n",
       "  'systems',\n",
       "  'for',\n",
       "  'planets',\n",
       "  'other',\n",
       "  'than',\n",
       "  'Earth'],\n",
       " ['Planetographic', 'planetodetic', 'or', 'planetocentric'],\n",
       " ['Selenographic', 'coordinates'],\n",
       " ['Merton', 'E', 'Davies', 'of', 'the', 'Rand', 'Corporation'],\n",
       " ['A',\n",
       "  'planetary',\n",
       "  'datum',\n",
       "  'is',\n",
       "  'a',\n",
       "  'generalization',\n",
       "  'of',\n",
       "  'geodetic',\n",
       "  'datums',\n",
       "  'for',\n",
       "  'other',\n",
       "  'planetary',\n",
       "  'bodies',\n",
       "  'such',\n",
       "  'as',\n",
       "  'the',\n",
       "  'Mars',\n",
       "  'datum',\n",
       "  'it',\n",
       "  'requires',\n",
       "  'the',\n",
       "  'specification',\n",
       "  'of',\n",
       "  'physical',\n",
       "  'reference',\n",
       "  'points',\n",
       "  'or',\n",
       "  'surfaces',\n",
       "  'with',\n",
       "  'fixed',\n",
       "  'coordinates',\n",
       "  'such',\n",
       "  'as',\n",
       "  'a',\n",
       "  'specific',\n",
       "  'crater',\n",
       "  'for',\n",
       "  'the',\n",
       "  'reference',\n",
       "  'meridian',\n",
       "  'or',\n",
       "  'the',\n",
       "  'best',\n",
       "  'fitting',\n",
       "  'equigeopotential',\n",
       "  'as',\n",
       "  'zero',\n",
       "  'level',\n",
       "  'surface'],\n",
       " ['No', 'Answer'],\n",
       " ['No', 'Answer'],\n",
       " ['No', 'Answer'],\n",
       " ['No', 'Answer'],\n",
       " ['No', 'Answer']]"
      ]
     },
     "execution_count": 54,
     "metadata": {},
     "output_type": "execute_result"
    }
   ],
   "source": [
    "tokenized_ground_truth"
   ]
  },
  {
   "cell_type": "code",
   "execution_count": null,
   "id": "bd945062",
   "metadata": {},
   "outputs": [],
   "source": []
  }
 ],
 "metadata": {
  "kernelspec": {
   "display_name": "base",
   "language": "python",
   "name": "python3"
  },
  "language_info": {
   "codemirror_mode": {
    "name": "ipython",
    "version": 3
   },
   "file_extension": ".py",
   "mimetype": "text/x-python",
   "name": "python",
   "nbconvert_exporter": "python",
   "pygments_lexer": "ipython3",
   "version": "3.12.4"
  }
 },
 "nbformat": 4,
 "nbformat_minor": 5
}
